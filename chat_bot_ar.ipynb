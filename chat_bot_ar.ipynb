{
 "cells": [
  {
   "cell_type": "code",
   "execution_count": 1,
   "metadata": {},
   "outputs": [],
   "source": [
    "# pip install pip==8.1.1\n",
    "# pip install chatterbot==0.8.1"
   ]
  },
  {
   "cell_type": "code",
   "execution_count": null,
   "metadata": {},
   "outputs": [],
   "source": [
    "# Importing libraries\n",
    "from chatterbot import ChatBot\n",
    "from chatterbot.trainers import ListTrainer"
   ]
  },
  {
   "cell_type": "code",
   "execution_count": 2,
   "metadata": {},
   "outputs": [],
   "source": [
    "bot = ChatBot(\n",
    "    'kid',\n",
    "    storage_adapter='chatterbot.storage.SQLStorageAdapter',\n",
    "    input_adapter='chatterbot.input.TerminalAdapter',\n",
    "    output_adapter='chatterbot.output.TerminalAdapter',\n",
    "    logic_adapters=[\n",
    "        \n",
    "        \"chatterbot.logic.BestMatch\"\n",
    "    ],\n",
    "    database='./database.sqlite3'\n",
    ")"
   ]
  },
  {
   "cell_type": "code",
   "execution_count": 3,
   "metadata": {},
   "outputs": [
    {
     "name": "stdout",
     "output_type": "stream",
     "text": [
      "List Trainer: [####################] 100%\n"
     ]
    }
   ],
   "source": [
    "bot.set_trainer(ListTrainer)\n",
    "data = open('Chat_bot.txt').read()\n",
    "talk = data.strip().split('\\n')\n",
    "bot.train(talk)"
   ]
  },
  {
   "cell_type": "code",
   "execution_count": null,
   "metadata": {},
   "outputs": [
    {
     "name": "stdout",
     "output_type": "stream",
     "text": [
      "hlw\n",
      "Tell me what do you want from me don’t waste my time \n",
      "what are you doing today?\n",
      "it’s written before this line. And don’t waste my time asking stupid questions \n",
      "do you know me?\n",
      "are you John Abraham ? No then I don’t care \n"
     ]
    }
   ],
   "source": [
    "\n",
    "while True:\n",
    "    try:\n",
    "     bot_input = bot.get_response(None)\n",
    "\n",
    "    except(KeyboardInterrupt, EOFError, SystemExit):\n",
    "        break"
   ]
  },
  {
   "cell_type": "code",
   "execution_count": null,
   "metadata": {},
   "outputs": [],
   "source": []
  }
 ],
 "metadata": {
  "kernelspec": {
   "display_name": "Python 3",
   "language": "python",
   "name": "python3"
  },
  "language_info": {
   "codemirror_mode": {
    "name": "ipython",
    "version": 3
   },
   "file_extension": ".py",
   "mimetype": "text/x-python",
   "name": "python",
   "nbconvert_exporter": "python",
   "pygments_lexer": "ipython3",
   "version": "3.7.4"
  }
 },
 "nbformat": 4,
 "nbformat_minor": 2
}
